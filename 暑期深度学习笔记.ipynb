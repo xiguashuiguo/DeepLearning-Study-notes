{
 "cells": [
  {
   "cell_type": "markdown",
   "metadata": {},
   "source": [
    "# 一、神经网络与深度学习\n",
    "\n",
    "## 1 深度学习概论\n",
    "\n",
    "### 1.1 欢迎来到深度学习\n",
    "- AI的意义\n",
    "- 本门课程将要学到的内容\n",
    "\n",
    "### 1.2 神经网络简介\n",
    "常用模型激活函数：ReLU函数\n",
    "神经网络结构：输入 -> 中间层 -> 输出\n",
    "\n",
    "### 1.3 用神经网络进行监督学习\n",
    "- 各AI方面算法规模与性能的比较\n",
    "- 神经网络发展三要素：数据、计算力、算法\n",
    "- 研究过程：Idea -> Code -> Experiment -> Idea -> ..."
   ]
  },
  {
   "cell_type": "markdown",
   "metadata": {},
   "source": [
    "## 2 神经网络基础\n",
    "\n",
    "### 2.1 二分类\n",
    "对样本特征进行分析，最终将其分为两类的一类型问题。\n",
    "\n",
    "### 2.2 Logistics Regression\n",
    "给定样本x，欲求得$\\hat{y}=P(y=1|x)$,其中x为一长度为$n_x$的特征向量"
   ]
  }
 ],
 "metadata": {
  "kernelspec": {
   "display_name": "Python 3",
   "language": "python",
   "name": "python3"
  },
  "language_info": {
   "codemirror_mode": {
    "name": "ipython",
    "version": 3
   },
   "file_extension": ".py",
   "mimetype": "text/x-python",
   "name": "python",
   "nbconvert_exporter": "python",
   "pygments_lexer": "ipython3",
   "version": "3.7.0"
  }
 },
 "nbformat": 4,
 "nbformat_minor": 2
}
